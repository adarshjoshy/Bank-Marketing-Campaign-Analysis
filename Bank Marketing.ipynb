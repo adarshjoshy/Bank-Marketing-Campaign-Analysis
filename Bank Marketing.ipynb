{
 "cells": [
  {
   "cell_type": "markdown",
   "metadata": {
    "colab_type": "text",
    "id": "ZM_GauZtxWM3"
   },
   "source": [
    "# Bank Marketing Campaign Analysis"
   ]
  },
  {
   "cell_type": "code",
   "execution_count": 1,
   "metadata": {
    "colab": {
     "base_uri": "https://localhost:8080/",
     "height": 70
    },
    "colab_type": "code",
    "executionInfo": {
     "elapsed": 2197,
     "status": "ok",
     "timestamp": 1590225577667,
     "user": {
      "displayName": "adarsh joshy",
      "photoUrl": "",
      "userId": "12866353117515642396"
     },
     "user_tz": -330
    },
    "id": "oIGbbGqtxWjH",
    "outputId": "8ceb737d-c49d-42ee-e60b-ca735e107a75"
   },
   "outputs": [
    {
     "name": "stderr",
     "output_type": "stream",
     "text": [
      "/usr/local/lib/python3.6/dist-packages/statsmodels/tools/_testing.py:19: FutureWarning: pandas.util.testing is deprecated. Use the functions in the public API at pandas.testing instead.\n",
      "  import pandas.util.testing as tm\n"
     ]
    }
   ],
   "source": [
    "import numpy as np\n",
    "import pandas as pd\n",
    "import matplotlib.pyplot as plt\n",
    "import seaborn as sns\n",
    "import warnings\n",
    "warnings.filterwarnings('ignore')"
   ]
  },
  {
   "cell_type": "code",
   "execution_count": 2,
   "metadata": {
    "colab": {
     "base_uri": "https://localhost:8080/",
     "height": 195
    },
    "colab_type": "code",
    "executionInfo": {
     "elapsed": 11590,
     "status": "ok",
     "timestamp": 1590225587087,
     "user": {
      "displayName": "adarsh joshy",
      "photoUrl": "",
      "userId": "12866353117515642396"
     },
     "user_tz": -330
    },
    "id": "B1ePGlNza77B",
    "outputId": "f0b2b8a3-2e1d-4191-d622-cd2475c18c80"
   },
   "outputs": [
    {
     "data": {
      "text/html": [
       "<div>\n",
       "<style scoped>\n",
       "    .dataframe tbody tr th:only-of-type {\n",
       "        vertical-align: middle;\n",
       "    }\n",
       "\n",
       "    .dataframe tbody tr th {\n",
       "        vertical-align: top;\n",
       "    }\n",
       "\n",
       "    .dataframe thead th {\n",
       "        text-align: right;\n",
       "    }\n",
       "</style>\n",
       "<table border=\"1\" class=\"dataframe\">\n",
       "  <thead>\n",
       "    <tr style=\"text-align: right;\">\n",
       "      <th></th>\n",
       "      <th>age</th>\n",
       "      <th>job</th>\n",
       "      <th>marital</th>\n",
       "      <th>education</th>\n",
       "      <th>default</th>\n",
       "      <th>balance</th>\n",
       "      <th>housing</th>\n",
       "      <th>loan</th>\n",
       "      <th>contact</th>\n",
       "      <th>day</th>\n",
       "      <th>month</th>\n",
       "      <th>duration</th>\n",
       "      <th>campaign</th>\n",
       "      <th>pdays</th>\n",
       "      <th>previous</th>\n",
       "      <th>poutcome</th>\n",
       "      <th>y</th>\n",
       "    </tr>\n",
       "  </thead>\n",
       "  <tbody>\n",
       "    <tr>\n",
       "      <th>0</th>\n",
       "      <td>58</td>\n",
       "      <td>management</td>\n",
       "      <td>married</td>\n",
       "      <td>tertiary</td>\n",
       "      <td>no</td>\n",
       "      <td>2143</td>\n",
       "      <td>yes</td>\n",
       "      <td>no</td>\n",
       "      <td>unknown</td>\n",
       "      <td>5</td>\n",
       "      <td>may</td>\n",
       "      <td>261</td>\n",
       "      <td>1</td>\n",
       "      <td>-1</td>\n",
       "      <td>0</td>\n",
       "      <td>unknown</td>\n",
       "      <td>no</td>\n",
       "    </tr>\n",
       "    <tr>\n",
       "      <th>1</th>\n",
       "      <td>44</td>\n",
       "      <td>technician</td>\n",
       "      <td>single</td>\n",
       "      <td>secondary</td>\n",
       "      <td>no</td>\n",
       "      <td>29</td>\n",
       "      <td>yes</td>\n",
       "      <td>no</td>\n",
       "      <td>unknown</td>\n",
       "      <td>5</td>\n",
       "      <td>may</td>\n",
       "      <td>151</td>\n",
       "      <td>1</td>\n",
       "      <td>-1</td>\n",
       "      <td>0</td>\n",
       "      <td>unknown</td>\n",
       "      <td>no</td>\n",
       "    </tr>\n",
       "    <tr>\n",
       "      <th>2</th>\n",
       "      <td>33</td>\n",
       "      <td>entrepreneur</td>\n",
       "      <td>married</td>\n",
       "      <td>secondary</td>\n",
       "      <td>no</td>\n",
       "      <td>2</td>\n",
       "      <td>yes</td>\n",
       "      <td>yes</td>\n",
       "      <td>unknown</td>\n",
       "      <td>5</td>\n",
       "      <td>may</td>\n",
       "      <td>76</td>\n",
       "      <td>1</td>\n",
       "      <td>-1</td>\n",
       "      <td>0</td>\n",
       "      <td>unknown</td>\n",
       "      <td>no</td>\n",
       "    </tr>\n",
       "    <tr>\n",
       "      <th>3</th>\n",
       "      <td>47</td>\n",
       "      <td>blue-collar</td>\n",
       "      <td>married</td>\n",
       "      <td>unknown</td>\n",
       "      <td>no</td>\n",
       "      <td>1506</td>\n",
       "      <td>yes</td>\n",
       "      <td>no</td>\n",
       "      <td>unknown</td>\n",
       "      <td>5</td>\n",
       "      <td>may</td>\n",
       "      <td>92</td>\n",
       "      <td>1</td>\n",
       "      <td>-1</td>\n",
       "      <td>0</td>\n",
       "      <td>unknown</td>\n",
       "      <td>no</td>\n",
       "    </tr>\n",
       "    <tr>\n",
       "      <th>4</th>\n",
       "      <td>33</td>\n",
       "      <td>unknown</td>\n",
       "      <td>single</td>\n",
       "      <td>unknown</td>\n",
       "      <td>no</td>\n",
       "      <td>1</td>\n",
       "      <td>no</td>\n",
       "      <td>no</td>\n",
       "      <td>unknown</td>\n",
       "      <td>5</td>\n",
       "      <td>may</td>\n",
       "      <td>198</td>\n",
       "      <td>1</td>\n",
       "      <td>-1</td>\n",
       "      <td>0</td>\n",
       "      <td>unknown</td>\n",
       "      <td>no</td>\n",
       "    </tr>\n",
       "  </tbody>\n",
       "</table>\n",
       "</div>"
      ],
      "text/plain": [
       "   age           job  marital  education default  balance housing loan  \\\n",
       "0   58    management  married   tertiary      no     2143     yes   no   \n",
       "1   44    technician   single  secondary      no       29     yes   no   \n",
       "2   33  entrepreneur  married  secondary      no        2     yes  yes   \n",
       "3   47   blue-collar  married    unknown      no     1506     yes   no   \n",
       "4   33       unknown   single    unknown      no        1      no   no   \n",
       "\n",
       "   contact  day month  duration  campaign  pdays  previous poutcome   y  \n",
       "0  unknown    5   may       261         1     -1         0  unknown  no  \n",
       "1  unknown    5   may       151         1     -1         0  unknown  no  \n",
       "2  unknown    5   may        76         1     -1         0  unknown  no  \n",
       "3  unknown    5   may        92         1     -1         0  unknown  no  \n",
       "4  unknown    5   may       198         1     -1         0  unknown  no  "
      ]
     },
     "execution_count": 2,
     "metadata": {
      "tags": []
     },
     "output_type": "execute_result"
    }
   ],
   "source": [
    "dataset = pd.read_csv('/content/drive/My Drive/Colab Notebooks/bank-full.csv', sep=';')\n",
    "pd.set_option('display.max_columns', None)\n",
    "dataset.head()"
   ]
  },
  {
   "cell_type": "code",
   "execution_count": 3,
   "metadata": {
    "colab": {
     "base_uri": "https://localhost:8080/",
     "height": 319
    },
    "colab_type": "code",
    "executionInfo": {
     "elapsed": 11568,
     "status": "ok",
     "timestamp": 1590225587089,
     "user": {
      "displayName": "adarsh joshy",
      "photoUrl": "",
      "userId": "12866353117515642396"
     },
     "user_tz": -330
    },
    "id": "xDdIS_vObzIM",
    "outputId": "f0f3fec2-fcc0-467d-8bd8-6120916c9773"
   },
   "outputs": [
    {
     "data": {
      "text/plain": [
       "age          0\n",
       "job          0\n",
       "marital      0\n",
       "education    0\n",
       "default      0\n",
       "balance      0\n",
       "housing      0\n",
       "loan         0\n",
       "contact      0\n",
       "day          0\n",
       "month        0\n",
       "duration     0\n",
       "campaign     0\n",
       "pdays        0\n",
       "previous     0\n",
       "poutcome     0\n",
       "y            0\n",
       "dtype: int64"
      ]
     },
     "execution_count": 3,
     "metadata": {
      "tags": []
     },
     "output_type": "execute_result"
    }
   ],
   "source": [
    "dataset.isnull().sum()"
   ]
  },
  {
   "cell_type": "markdown",
   "metadata": {
    "colab_type": "text",
    "id": "5Z2oga_ncIcf"
   },
   "source": [
    ">**No column with null values**"
   ]
  },
  {
   "cell_type": "code",
   "execution_count": 4,
   "metadata": {
    "colab": {
     "base_uri": "https://localhost:8080/",
     "height": 410
    },
    "colab_type": "code",
    "executionInfo": {
     "elapsed": 11546,
     "status": "ok",
     "timestamp": 1590225587092,
     "user": {
      "displayName": "adarsh joshy",
      "photoUrl": "",
      "userId": "12866353117515642396"
     },
     "user_tz": -330
    },
    "id": "RQ-gH9ercQFj",
    "outputId": "bee2fa23-3c86-4767-ab7a-d059f270e9f3"
   },
   "outputs": [
    {
     "data": {
      "text/html": [
       "<div>\n",
       "<style scoped>\n",
       "    .dataframe tbody tr th:only-of-type {\n",
       "        vertical-align: middle;\n",
       "    }\n",
       "\n",
       "    .dataframe tbody tr th {\n",
       "        vertical-align: top;\n",
       "    }\n",
       "\n",
       "    .dataframe thead th {\n",
       "        text-align: right;\n",
       "    }\n",
       "</style>\n",
       "<table border=\"1\" class=\"dataframe\">\n",
       "  <thead>\n",
       "    <tr style=\"text-align: right;\">\n",
       "      <th></th>\n",
       "      <th>age</th>\n",
       "      <th>job</th>\n",
       "      <th>marital</th>\n",
       "      <th>education</th>\n",
       "      <th>default</th>\n",
       "      <th>balance</th>\n",
       "      <th>housing</th>\n",
       "      <th>loan</th>\n",
       "      <th>contact</th>\n",
       "      <th>day</th>\n",
       "      <th>month</th>\n",
       "      <th>duration</th>\n",
       "      <th>campaign</th>\n",
       "      <th>pdays</th>\n",
       "      <th>previous</th>\n",
       "      <th>poutcome</th>\n",
       "      <th>y</th>\n",
       "    </tr>\n",
       "  </thead>\n",
       "  <tbody>\n",
       "    <tr>\n",
       "      <th>count</th>\n",
       "      <td>45211.000000</td>\n",
       "      <td>45211</td>\n",
       "      <td>45211</td>\n",
       "      <td>45211</td>\n",
       "      <td>45211</td>\n",
       "      <td>45211.000000</td>\n",
       "      <td>45211</td>\n",
       "      <td>45211</td>\n",
       "      <td>45211</td>\n",
       "      <td>45211.000000</td>\n",
       "      <td>45211</td>\n",
       "      <td>45211.000000</td>\n",
       "      <td>45211.000000</td>\n",
       "      <td>45211.000000</td>\n",
       "      <td>45211.000000</td>\n",
       "      <td>45211</td>\n",
       "      <td>45211</td>\n",
       "    </tr>\n",
       "    <tr>\n",
       "      <th>unique</th>\n",
       "      <td>NaN</td>\n",
       "      <td>12</td>\n",
       "      <td>3</td>\n",
       "      <td>4</td>\n",
       "      <td>2</td>\n",
       "      <td>NaN</td>\n",
       "      <td>2</td>\n",
       "      <td>2</td>\n",
       "      <td>3</td>\n",
       "      <td>NaN</td>\n",
       "      <td>12</td>\n",
       "      <td>NaN</td>\n",
       "      <td>NaN</td>\n",
       "      <td>NaN</td>\n",
       "      <td>NaN</td>\n",
       "      <td>4</td>\n",
       "      <td>2</td>\n",
       "    </tr>\n",
       "    <tr>\n",
       "      <th>top</th>\n",
       "      <td>NaN</td>\n",
       "      <td>blue-collar</td>\n",
       "      <td>married</td>\n",
       "      <td>secondary</td>\n",
       "      <td>no</td>\n",
       "      <td>NaN</td>\n",
       "      <td>yes</td>\n",
       "      <td>no</td>\n",
       "      <td>cellular</td>\n",
       "      <td>NaN</td>\n",
       "      <td>may</td>\n",
       "      <td>NaN</td>\n",
       "      <td>NaN</td>\n",
       "      <td>NaN</td>\n",
       "      <td>NaN</td>\n",
       "      <td>unknown</td>\n",
       "      <td>no</td>\n",
       "    </tr>\n",
       "    <tr>\n",
       "      <th>freq</th>\n",
       "      <td>NaN</td>\n",
       "      <td>9732</td>\n",
       "      <td>27214</td>\n",
       "      <td>23202</td>\n",
       "      <td>44396</td>\n",
       "      <td>NaN</td>\n",
       "      <td>25130</td>\n",
       "      <td>37967</td>\n",
       "      <td>29285</td>\n",
       "      <td>NaN</td>\n",
       "      <td>13766</td>\n",
       "      <td>NaN</td>\n",
       "      <td>NaN</td>\n",
       "      <td>NaN</td>\n",
       "      <td>NaN</td>\n",
       "      <td>36959</td>\n",
       "      <td>39922</td>\n",
       "    </tr>\n",
       "    <tr>\n",
       "      <th>mean</th>\n",
       "      <td>40.936210</td>\n",
       "      <td>NaN</td>\n",
       "      <td>NaN</td>\n",
       "      <td>NaN</td>\n",
       "      <td>NaN</td>\n",
       "      <td>1362.272058</td>\n",
       "      <td>NaN</td>\n",
       "      <td>NaN</td>\n",
       "      <td>NaN</td>\n",
       "      <td>15.806419</td>\n",
       "      <td>NaN</td>\n",
       "      <td>258.163080</td>\n",
       "      <td>2.763841</td>\n",
       "      <td>40.197828</td>\n",
       "      <td>0.580323</td>\n",
       "      <td>NaN</td>\n",
       "      <td>NaN</td>\n",
       "    </tr>\n",
       "    <tr>\n",
       "      <th>std</th>\n",
       "      <td>10.618762</td>\n",
       "      <td>NaN</td>\n",
       "      <td>NaN</td>\n",
       "      <td>NaN</td>\n",
       "      <td>NaN</td>\n",
       "      <td>3044.765829</td>\n",
       "      <td>NaN</td>\n",
       "      <td>NaN</td>\n",
       "      <td>NaN</td>\n",
       "      <td>8.322476</td>\n",
       "      <td>NaN</td>\n",
       "      <td>257.527812</td>\n",
       "      <td>3.098021</td>\n",
       "      <td>100.128746</td>\n",
       "      <td>2.303441</td>\n",
       "      <td>NaN</td>\n",
       "      <td>NaN</td>\n",
       "    </tr>\n",
       "    <tr>\n",
       "      <th>min</th>\n",
       "      <td>18.000000</td>\n",
       "      <td>NaN</td>\n",
       "      <td>NaN</td>\n",
       "      <td>NaN</td>\n",
       "      <td>NaN</td>\n",
       "      <td>-8019.000000</td>\n",
       "      <td>NaN</td>\n",
       "      <td>NaN</td>\n",
       "      <td>NaN</td>\n",
       "      <td>1.000000</td>\n",
       "      <td>NaN</td>\n",
       "      <td>0.000000</td>\n",
       "      <td>1.000000</td>\n",
       "      <td>-1.000000</td>\n",
       "      <td>0.000000</td>\n",
       "      <td>NaN</td>\n",
       "      <td>NaN</td>\n",
       "    </tr>\n",
       "    <tr>\n",
       "      <th>25%</th>\n",
       "      <td>33.000000</td>\n",
       "      <td>NaN</td>\n",
       "      <td>NaN</td>\n",
       "      <td>NaN</td>\n",
       "      <td>NaN</td>\n",
       "      <td>72.000000</td>\n",
       "      <td>NaN</td>\n",
       "      <td>NaN</td>\n",
       "      <td>NaN</td>\n",
       "      <td>8.000000</td>\n",
       "      <td>NaN</td>\n",
       "      <td>103.000000</td>\n",
       "      <td>1.000000</td>\n",
       "      <td>-1.000000</td>\n",
       "      <td>0.000000</td>\n",
       "      <td>NaN</td>\n",
       "      <td>NaN</td>\n",
       "    </tr>\n",
       "    <tr>\n",
       "      <th>50%</th>\n",
       "      <td>39.000000</td>\n",
       "      <td>NaN</td>\n",
       "      <td>NaN</td>\n",
       "      <td>NaN</td>\n",
       "      <td>NaN</td>\n",
       "      <td>448.000000</td>\n",
       "      <td>NaN</td>\n",
       "      <td>NaN</td>\n",
       "      <td>NaN</td>\n",
       "      <td>16.000000</td>\n",
       "      <td>NaN</td>\n",
       "      <td>180.000000</td>\n",
       "      <td>2.000000</td>\n",
       "      <td>-1.000000</td>\n",
       "      <td>0.000000</td>\n",
       "      <td>NaN</td>\n",
       "      <td>NaN</td>\n",
       "    </tr>\n",
       "    <tr>\n",
       "      <th>75%</th>\n",
       "      <td>48.000000</td>\n",
       "      <td>NaN</td>\n",
       "      <td>NaN</td>\n",
       "      <td>NaN</td>\n",
       "      <td>NaN</td>\n",
       "      <td>1428.000000</td>\n",
       "      <td>NaN</td>\n",
       "      <td>NaN</td>\n",
       "      <td>NaN</td>\n",
       "      <td>21.000000</td>\n",
       "      <td>NaN</td>\n",
       "      <td>319.000000</td>\n",
       "      <td>3.000000</td>\n",
       "      <td>-1.000000</td>\n",
       "      <td>0.000000</td>\n",
       "      <td>NaN</td>\n",
       "      <td>NaN</td>\n",
       "    </tr>\n",
       "    <tr>\n",
       "      <th>max</th>\n",
       "      <td>95.000000</td>\n",
       "      <td>NaN</td>\n",
       "      <td>NaN</td>\n",
       "      <td>NaN</td>\n",
       "      <td>NaN</td>\n",
       "      <td>102127.000000</td>\n",
       "      <td>NaN</td>\n",
       "      <td>NaN</td>\n",
       "      <td>NaN</td>\n",
       "      <td>31.000000</td>\n",
       "      <td>NaN</td>\n",
       "      <td>4918.000000</td>\n",
       "      <td>63.000000</td>\n",
       "      <td>871.000000</td>\n",
       "      <td>275.000000</td>\n",
       "      <td>NaN</td>\n",
       "      <td>NaN</td>\n",
       "    </tr>\n",
       "  </tbody>\n",
       "</table>\n",
       "</div>"
      ],
      "text/plain": [
       "                 age          job  marital  education default        balance  \\\n",
       "count   45211.000000        45211    45211      45211   45211   45211.000000   \n",
       "unique           NaN           12        3          4       2            NaN   \n",
       "top              NaN  blue-collar  married  secondary      no            NaN   \n",
       "freq             NaN         9732    27214      23202   44396            NaN   \n",
       "mean       40.936210          NaN      NaN        NaN     NaN    1362.272058   \n",
       "std        10.618762          NaN      NaN        NaN     NaN    3044.765829   \n",
       "min        18.000000          NaN      NaN        NaN     NaN   -8019.000000   \n",
       "25%        33.000000          NaN      NaN        NaN     NaN      72.000000   \n",
       "50%        39.000000          NaN      NaN        NaN     NaN     448.000000   \n",
       "75%        48.000000          NaN      NaN        NaN     NaN    1428.000000   \n",
       "max        95.000000          NaN      NaN        NaN     NaN  102127.000000   \n",
       "\n",
       "       housing   loan   contact           day  month      duration  \\\n",
       "count    45211  45211     45211  45211.000000  45211  45211.000000   \n",
       "unique       2      2         3           NaN     12           NaN   \n",
       "top        yes     no  cellular           NaN    may           NaN   \n",
       "freq     25130  37967     29285           NaN  13766           NaN   \n",
       "mean       NaN    NaN       NaN     15.806419    NaN    258.163080   \n",
       "std        NaN    NaN       NaN      8.322476    NaN    257.527812   \n",
       "min        NaN    NaN       NaN      1.000000    NaN      0.000000   \n",
       "25%        NaN    NaN       NaN      8.000000    NaN    103.000000   \n",
       "50%        NaN    NaN       NaN     16.000000    NaN    180.000000   \n",
       "75%        NaN    NaN       NaN     21.000000    NaN    319.000000   \n",
       "max        NaN    NaN       NaN     31.000000    NaN   4918.000000   \n",
       "\n",
       "            campaign         pdays      previous poutcome      y  \n",
       "count   45211.000000  45211.000000  45211.000000    45211  45211  \n",
       "unique           NaN           NaN           NaN        4      2  \n",
       "top              NaN           NaN           NaN  unknown     no  \n",
       "freq             NaN           NaN           NaN    36959  39922  \n",
       "mean        2.763841     40.197828      0.580323      NaN    NaN  \n",
       "std         3.098021    100.128746      2.303441      NaN    NaN  \n",
       "min         1.000000     -1.000000      0.000000      NaN    NaN  \n",
       "25%         1.000000     -1.000000      0.000000      NaN    NaN  \n",
       "50%         2.000000     -1.000000      0.000000      NaN    NaN  \n",
       "75%         3.000000     -1.000000      0.000000      NaN    NaN  \n",
       "max        63.000000    871.000000    275.000000      NaN    NaN  "
      ]
     },
     "execution_count": 4,
     "metadata": {
      "tags": []
     },
     "output_type": "execute_result"
    }
   ],
   "source": [
    "dataset.describe(include='all')"
   ]
  },
  {
   "cell_type": "markdown",
   "metadata": {
    "colab_type": "text",
    "id": "HCBxFNo-cj1h"
   },
   "source": [
    ">The **Range** of the various variables can be seen above"
   ]
  },
  {
   "cell_type": "markdown",
   "metadata": {
    "colab_type": "text",
    "id": "-rQuSnXXdDkg"
   },
   "source": [
    "# Exploratory Data Analysis and Data Preprocessing"
   ]
  },
  {
   "cell_type": "markdown",
   "metadata": {
    "colab_type": "text",
    "id": "Byt2CUMJdTL8"
   },
   "source": [
    "### Count plot and Histogram for Data Visualisation\n"
   ]
  },
  {
   "cell_type": "code",
   "execution_count": 5,
   "metadata": {
    "colab": {
     "base_uri": "https://localhost:8080/",
     "height": 1000
    },
    "colab_type": "code",
    "executionInfo": {
     "elapsed": 15828,
     "status": "ok",
     "timestamp": 1590225591400,
     "user": {
      "displayName": "adarsh joshy",
      "photoUrl": "",
      "userId": "12866353117515642396"
     },
     "user_tz": -330
    },
    "id": "0dvUr12MdkXc",
    "outputId": "89fc000b-56f9-4bcb-9df4-80ebc205e436"
   },
   "outputs": [
    {
     "data": {
      "image/png": "[encoded data removed]",
      "text/plain": [
       "<Figure size 432x288 with 1 Axes>"
      ]
     },
     "metadata": {
      "needs_background": "light",
      "tags": []
     },
     "output_type": "display_data"
    },
    {
     "name": "stdout",
     "output_type": "stream",
     "text": [
      "\n",
      "\n"
     ]
    },
    {
     "data": {
      "image/png": "[encoded data removed]",
      "text/plain": [
       "<Figure size 432x288 with 1 Axes>"
      ]
     },
     "metadata": {
      "needs_background": "light",
      "tags": []
     },
     "output_type": "display_data"
    },
    {
     "name": "stdout",
     "output_type": "stream",
     "text": [
      "\n",
      "\n"
     ]
    },
    {
     "data": {
      "image/png": "[encoded data removed]",
      "text/plain": [
       "<Figure size 432x288 with 1 Axes>"
      ]
     },
     "metadata": {
      "needs_background": "light",
      "tags": []
     },
     "output_type": "display_data"
    },
    {
     "name": "stdout",
     "output_type": "stream",
     "text": [
      "\n",
      "\n"
     ]
    },
    {
     "data": {
      "image/png": "[encoded data removed]",
      "text/plain": [
       "<Figure size 432x288 with 1 Axes>"
      ]
     },
     "metadata": {
      "needs_background": "light",
      "tags": []
     },
     "output_type": "display_data"
    },
    {
     "name": "stdout",
     "output_type": "stream",
     "text": [
      "\n",
      "\n"
     ]
    },
    {
     "data": {
      "image/png": "[encoded data removed]",
      "text/plain": [
       "<Figure size 432x288 with 1 Axes>"
      ]
     },
     "metadata": {
      "needs_background": "light",
      "tags": []
     },
     "output_type": "display_data"
    },
    {
     "name": "stdout",
     "output_type": "stream",
     "text": [
      "\n",
      "\n"
     ]
    },
    {
     "data": {
      "image/png": "[encoded data removed]",
      "text/plain": [
       "<Figure size 432x288 with 1 Axes>"
      ]
     },
     "metadata": {
      "needs_background": "light",
      "tags": []
     },
     "output_type": "display_data"
    },
    {
     "name": "stdout",
     "output_type": "stream",
     "text": [
      "\n",
      "\n"
     ]
    },
    {
     "data": {
      "image/png": "[encoded data removed]",
      "text/plain": [
       "<Figure size 432x288 with 1 Axes>"
      ]
     },
     "metadata": {
      "needs_background": "light",
      "tags": []
     },
     "output_type": "display_data"
    },
    {
     "name": "stdout",
     "output_type": "stream",
     "text": [
      "\n",
      "\n"
     ]
    },
    {
     "data": {
      "image/png": "[encoded data removed]",
      "text/plain": [
       "<Figure size 432x288 with 1 Axes>"
      ]
     },
     "metadata": {
      "needs_background": "light",
      "tags": []
     },
     "output_type": "display_data"
    },
    {
     "name": "stdout",
     "output_type": "stream",
     "text": [
      "\n",
      "\n"
     ]
    },
    {
     "data": {
      "image/png": "[encoded data removed]",
      "text/plain": [
       "<Figure size 432x288 with 1 Axes>"
      ]
     },
     "metadata": {
      "needs_background": "light",
      "tags": []
     },
     "output_type": "display_data"
    },
    {
     "name": "stdout",
     "output_type": "stream",
     "text": [
      "\n",
      "\n"
     ]
    },
    {
     "data": {
      "image/png": "[encoded data removed]",
      "text/plain": [
       "<Figure size 432x288 with 1 Axes>"
      ]
     },
     "metadata": {
      "needs_background": "light",
      "tags": []
     },
     "output_type": "display_data"
    },
    {
     "name": "stdout",
     "output_type": "stream",
     "text": [
      "\n",
      "\n"
     ]
    },
    {
     "data": {
      "image/png": "[encoded data removed]",
      "text/plain": [
       "<Figure size 432x288 with 1 Axes>"
      ]
     },
     "metadata": {
      "needs_background": "light",
      "tags": []
     },
     "output_type": "display_data"
    },
    {
     "name": "stdout",
     "output_type": "stream",
     "text": [
      "\n",
      "\n"
     ]
    },
    {
     "data": {
      "image/png": "[encoded data removed]",
      "text/plain": [
       "<Figure size 432x288 with 1 Axes>"
      ]
     },
     "metadata": {
      "needs_background": "light",
      "tags": []
     },
     "output_type": "display_data"
    },
    {
     "name": "stdout",
     "output_type": "stream",
     "text": [
      "\n",
      "\n"
     ]
    },
    {
     "data": {
      "image/png": "[encoded data removed]",
      "text/plain": [
       "<Figure size 432x288 with 1 Axes>"
      ]
     },
     "metadata": {
      "needs_background": "light",
      "tags": []
     },
     "output_type": "display_data"
    },
    {
     "name": "stdout",
     "output_type": "stream",
     "text": [
      "\n",
      "\n"
     ]
    },
    {
     "data": {
      "image/png": "[encoded data removed]",
      "text/plain": [
       "<Figure size 432x288 with 1 Axes>"
      ]
     },
     "metadata": {
      "needs_background": "light",
      "tags": []
     },
     "output_type": "display_data"
    },
    {
     "name": "stdout",
     "output_type": "stream",
     "text": [
      "\n",
      "\n"
     ]
    },
    {
     "data": {
      "image/png": "[encoded data removed]",
      "text/plain": [
       "<Figure size 432x288 with 1 Axes>"
      ]
     },
     "metadata": {
      "needs_background": "light",
      "tags": []
     },
     "output_type": "display_data"
    },
    {
     "name": "stdout",
     "output_type": "stream",
     "text": [
      "\n",
      "\n"
     ]
    },
    {
     "data": {
      "image/png": "[encoded data removed]",
      "text/plain": [
       "<Figure size 432x288 with 1 Axes>"
      ]
     },
     "metadata": {
      "needs_background": "light",
      "tags": []
     },
     "output_type": "display_data"
    },
    {
     "name": "stdout",
     "output_type": "stream",
     "text": [
      "\n",
      "\n"
     ]
    },
    {
     "data": {
      "image/png": "[encoded data removed]",
      "text/plain": [
       "<Figure size 432x288 with 1 Axes>"
      ]
     },
     "metadata": {
      "needs_background": "light",
      "tags": []
     },
     "output_type": "display_data"
    },
    {
     "name": "stdout",
     "output_type": "stream",
     "text": [
      "\n",
      "\n"
     ]
    }
   ],
   "source": [
    "for heading in dataset.columns:\n",
    "    if dataset[heading].dtypes == np.object:\n",
    "        sns.countplot(y=dataset[heading], data=dataset, hue=dataset['y'])         #univariate analysis\n",
    "        plt.legend(loc=\"upper left\", bbox_to_anchor=(1.01,1))\n",
    "        plt.title(heading + ' vs count')\n",
    "        plt.show()\n",
    "    else:\n",
    "        plt.hist(dataset[dataset['y'] == 'no'][heading], bins=30, label='no')\n",
    "        plt.hist(dataset[dataset['y'] == 'yes'][heading], bins=30, label='yes')\n",
    "        plt.legend(loc=\"upper left\", bbox_to_anchor=(1.01,1))\n",
    "        plt.title(heading + ' vs count')\n",
    "        plt.ylabel('count')\n",
    "        plt.xlabel(heading)\n",
    "        plt.show()\n",
    "    print(\"\\n\")"
   ]
  },
  {
   "cell_type": "markdown",
   "metadata": {
    "colab_type": "text",
    "id": "zr3R3FbYd04D"
   },
   "source": [
    ">**Count plot and Histogram inferences :**\n",
    "><ul>\n",
    "    <li>Target variable (y) is highly imbalanced</li>\n",
    "    <li>A lot of unknown values</li>\n",
    "    <li>Majority of people who subscribed to the term deposit are 25-45 years old</li>\n",
    "    <li>Majority of people who subscribed to the term deposit are married</li>\n",
    "    <li>Majority of people who subscribed to the term deposit do not have credit in default</li>\n",
    "    <li>Majority of people who subscribed to the term deposit have very low yearly average balance</li>\n",
    "    <li>Majority of people who subscribed to the term deposit do not have a house loan or a personal loan</li>\n",
    "    <li>Majority of people who subscribed to the term deposit in May</li>\n",
    "    <li>The duration is not known before a call is performed and after the end of the call y is obviously known.</li>\n",
    "</ul>"
   ]
  },
  {
   "cell_type": "code",
   "execution_count": 6,
   "metadata": {
    "colab": {
     "base_uri": "https://localhost:8080/",
     "height": 295
    },
    "colab_type": "code",
    "executionInfo": {
     "elapsed": 15793,
     "status": "ok",
     "timestamp": 1590225591402,
     "user": {
      "displayName": "adarsh joshy",
      "photoUrl": "",
      "userId": "12866353117515642396"
     },
     "user_tz": -330
    },
    "id": "o2D0ul0WdmIG",
    "outputId": "b665d3db-ecd6-4319-e0f3-9b1bbb2b8e68"
   },
   "outputs": [
    {
     "data": {
      "image/png": "[encoded data removed]",
      "text/plain": [
       "<Figure size 432x288 with 1 Axes>"
      ]
     },
     "metadata": {
      "needs_background": "light",
      "tags": []
     },
     "output_type": "display_data"
    }
   ],
   "source": [
    "sns.boxplot(y=dataset['duration'], x=dataset['y'])\n",
    "plt.title('duration vs target variable (y)')\n",
    "plt.xlabel('target variable (y)')\n",
    "plt.show()"
   ]
  },
  {
   "cell_type": "code",
   "execution_count": 7,
   "metadata": {
    "colab": {
     "base_uri": "https://localhost:8080/",
     "height": 34
    },
    "colab_type": "code",
    "executionInfo": {
     "elapsed": 15770,
     "status": "ok",
     "timestamp": 1590225591404,
     "user": {
      "displayName": "adarsh joshy",
      "photoUrl": "",
      "userId": "12866353117515642396"
     },
     "user_tz": -330
    },
    "id": "pea_fc1Ad45D",
    "outputId": "f5188385-c805-4799-8730-e1a1ed20920f"
   },
   "outputs": [
    {
     "name": "stdout",
     "output_type": "stream",
     "text": [
      "(45211, 16)\n"
     ]
    }
   ],
   "source": [
    "dataset.drop('duration', inplace=True, axis=1)\n",
    "print(dataset.shape)"
   ]
  },
  {
   "cell_type": "markdown",
   "metadata": {
    "colab_type": "text",
    "id": "9SnuKyUWexbO"
   },
   "source": [
    "**Task : Handle missing data before continuing with EDA**"
   ]
  },
  {
   "cell_type": "code",
   "execution_count": 8,
   "metadata": {
    "colab": {
     "base_uri": "https://localhost:8080/",
     "height": 403
    },
    "colab_type": "code",
    "executionInfo": {
     "elapsed": 15754,
     "status": "ok",
     "timestamp": 1590225591406,
     "user": {
      "displayName": "adarsh joshy",
      "photoUrl": "",
      "userId": "12866353117515642396"
     },
     "user_tz": -330
    },
    "id": "m74dGMEVetal",
    "outputId": "d7e95fcf-9e60-4298-8cbd-c92791eb2984"
   },
   "outputs": [
    {
     "name": "stdout",
     "output_type": "stream",
     "text": [
      "<class 'pandas.core.frame.DataFrame'>\n",
      "RangeIndex: 45211 entries, 0 to 45210\n",
      "Data columns (total 16 columns):\n",
      " #   Column     Non-Null Count  Dtype \n",
      "---  ------     --------------  ----- \n",
      " 0   age        45211 non-null  int64 \n",
      " 1   job        45211 non-null  object\n",
      " 2   marital    45211 non-null  object\n",
      " 3   education  45211 non-null  object\n",
      " 4   default    45211 non-null  object\n",
      " 5   balance    45211 non-null  int64 \n",
      " 6   housing    45211 non-null  object\n",
      " 7   loan       45211 non-null  object\n",
      " 8   contact    45211 non-null  object\n",
      " 9   day        45211 non-null  int64 \n",
      " 10  month      45211 non-null  object\n",
      " 11  campaign   45211 non-null  int64 \n",
      " 12  pdays      45211 non-null  int64 \n",
      " 13  previous   45211 non-null  int64 \n",
      " 14  poutcome   45211 non-null  object\n",
      " 15  y          45211 non-null  object\n",
      "dtypes: int64(6), object(10)\n",
      "memory usage: 5.5+ MB\n"
     ]
    }
   ],
   "source": [
    "dataset.info()"
   ]
  },
  {
   "cell_type": "markdown",
   "metadata": {
    "colab_type": "text",
    "id": "-y8o-d22fNSp"
   },
   "source": [
    "### Frequency Encoding"
   ]
  },
  {
   "cell_type": "code",
   "execution_count": 9,
   "metadata": {
    "colab": {
     "base_uri": "https://localhost:8080/",
     "height": 195
    },
    "colab_type": "code",
    "executionInfo": {
     "elapsed": 15735,
     "status": "ok",
     "timestamp": 1590225591408,
     "user": {
      "displayName": "adarsh joshy",
      "photoUrl": "",
      "userId": "12866353117515642396"
     },
     "user_tz": -330
    },
    "id": "w38g8fIEe3c-",
    "outputId": "47222c97-4401-4f0a-e50c-6cd2ea3f85ee"
   },
   "outputs": [
    {
     "data": {
      "text/html": [
       "<div>\n",
       "<style scoped>\n",
       "    .dataframe tbody tr th:only-of-type {\n",
       "        vertical-align: middle;\n",
       "    }\n",
       "\n",
       "    .dataframe tbody tr th {\n",
       "        vertical-align: top;\n",
       "    }\n",
       "\n",
       "    .dataframe thead th {\n",
       "        text-align: right;\n",
       "    }\n",
       "</style>\n",
       "<table border=\"1\" class=\"dataframe\">\n",
       "  <thead>\n",
       "    <tr style=\"text-align: right;\">\n",
       "      <th></th>\n",
       "      <th>age</th>\n",
       "      <th>job</th>\n",
       "      <th>marital</th>\n",
       "      <th>education</th>\n",
       "      <th>default</th>\n",
       "      <th>balance</th>\n",
       "      <th>housing</th>\n",
       "      <th>loan</th>\n",
       "      <th>contact</th>\n",
       "      <th>day</th>\n",
       "      <th>month</th>\n",
       "      <th>campaign</th>\n",
       "      <th>pdays</th>\n",
       "      <th>previous</th>\n",
       "      <th>poutcome</th>\n",
       "      <th>y</th>\n",
       "    </tr>\n",
       "  </thead>\n",
       "  <tbody>\n",
       "    <tr>\n",
       "      <th>0</th>\n",
       "      <td>58</td>\n",
       "      <td>9</td>\n",
       "      <td>2</td>\n",
       "      <td>1</td>\n",
       "      <td>1</td>\n",
       "      <td>2143</td>\n",
       "      <td>1</td>\n",
       "      <td>1</td>\n",
       "      <td>-1</td>\n",
       "      <td>5</td>\n",
       "      <td>11</td>\n",
       "      <td>1</td>\n",
       "      <td>-1</td>\n",
       "      <td>0</td>\n",
       "      <td>-1</td>\n",
       "      <td>1</td>\n",
       "    </tr>\n",
       "    <tr>\n",
       "      <th>1</th>\n",
       "      <td>44</td>\n",
       "      <td>8</td>\n",
       "      <td>1</td>\n",
       "      <td>2</td>\n",
       "      <td>1</td>\n",
       "      <td>29</td>\n",
       "      <td>1</td>\n",
       "      <td>1</td>\n",
       "      <td>-1</td>\n",
       "      <td>5</td>\n",
       "      <td>11</td>\n",
       "      <td>1</td>\n",
       "      <td>-1</td>\n",
       "      <td>0</td>\n",
       "      <td>-1</td>\n",
       "      <td>1</td>\n",
       "    </tr>\n",
       "    <tr>\n",
       "      <th>2</th>\n",
       "      <td>33</td>\n",
       "      <td>3</td>\n",
       "      <td>2</td>\n",
       "      <td>2</td>\n",
       "      <td>1</td>\n",
       "      <td>2</td>\n",
       "      <td>1</td>\n",
       "      <td>0</td>\n",
       "      <td>-1</td>\n",
       "      <td>5</td>\n",
       "      <td>11</td>\n",
       "      <td>1</td>\n",
       "      <td>-1</td>\n",
       "      <td>0</td>\n",
       "      <td>-1</td>\n",
       "      <td>1</td>\n",
       "    </tr>\n",
       "    <tr>\n",
       "      <th>3</th>\n",
       "      <td>47</td>\n",
       "      <td>10</td>\n",
       "      <td>2</td>\n",
       "      <td>-1</td>\n",
       "      <td>1</td>\n",
       "      <td>1506</td>\n",
       "      <td>1</td>\n",
       "      <td>1</td>\n",
       "      <td>-1</td>\n",
       "      <td>5</td>\n",
       "      <td>11</td>\n",
       "      <td>1</td>\n",
       "      <td>-1</td>\n",
       "      <td>0</td>\n",
       "      <td>-1</td>\n",
       "      <td>1</td>\n",
       "    </tr>\n",
       "    <tr>\n",
       "      <th>4</th>\n",
       "      <td>33</td>\n",
       "      <td>-1</td>\n",
       "      <td>1</td>\n",
       "      <td>-1</td>\n",
       "      <td>1</td>\n",
       "      <td>1</td>\n",
       "      <td>0</td>\n",
       "      <td>1</td>\n",
       "      <td>-1</td>\n",
       "      <td>5</td>\n",
       "      <td>11</td>\n",
       "      <td>1</td>\n",
       "      <td>-1</td>\n",
       "      <td>0</td>\n",
       "      <td>-1</td>\n",
       "      <td>1</td>\n",
       "    </tr>\n",
       "  </tbody>\n",
       "</table>\n",
       "</div>"
      ],
      "text/plain": [
       "   age  job  marital  education  default  balance  housing  loan  contact  \\\n",
       "0   58    9        2          1        1     2143        1     1       -1   \n",
       "1   44    8        1          2        1       29        1     1       -1   \n",
       "2   33    3        2          2        1        2        1     0       -1   \n",
       "3   47   10        2         -1        1     1506        1     1       -1   \n",
       "4   33   -1        1         -1        1        1        0     1       -1   \n",
       "\n",
       "   day  month  campaign  pdays  previous  poutcome  y  \n",
       "0    5     11         1     -1         0        -1  1  \n",
       "1    5     11         1     -1         0        -1  1  \n",
       "2    5     11         1     -1         0        -1  1  \n",
       "3    5     11         1     -1         0        -1  1  \n",
       "4    5     11         1     -1         0        -1  1  "
      ]
     },
     "execution_count": 9,
     "metadata": {
      "tags": []
     },
     "output_type": "execute_result"
    }
   ],
   "source": [
    "def filter(temp, x):\n",
    "    if(x != 'unknown'):\n",
    "        return temp[x]                                                            #Known values encoded w.r.t. frequency\n",
    "    else:\n",
    "        return -1                                                                 #Unknown values encoded as -1\n",
    "\n",
    "for col in dataset.columns:\n",
    "    if dataset[col].dtype == np.object:\n",
    "        temp = (dataset.groupby(col).size())/ len(dataset)\n",
    "        temp = dict(temp)\n",
    "        temp = {k: v for k, v in sorted(temp.items(), key=lambda item: item[1])}  #sorting dictionary keys with help of frequency values\n",
    "        j=0\n",
    "        for item in temp.keys():\n",
    "            if item != 'unknown':\n",
    "                temp[item] = j\n",
    "                j = j+1\n",
    "        dataset[col] = dataset[col].apply(lambda x : filter(temp, x))\n",
    "dataset.head()"
   ]
  },
  {
   "cell_type": "markdown",
   "metadata": {
    "colab_type": "text",
    "id": "QbHSwtS7fghJ"
   },
   "source": [
    "> **Frequency encoding will preserve the information about the values of distributions.**"
   ]
  },
  {
   "cell_type": "code",
   "execution_count": 10,
   "metadata": {
    "colab": {
     "base_uri": "https://localhost:8080/",
     "height": 454
    },
    "colab_type": "code",
    "executionInfo": {
     "elapsed": 15718,
     "status": "ok",
     "timestamp": 1590225591410,
     "user": {
      "displayName": "adarsh joshy",
      "photoUrl": "",
      "userId": "12866353117515642396"
     },
     "user_tz": -330
    },
    "id": "HpR6pwkdfUJ4",
    "outputId": "7a421d3b-328f-446f-ac43-066e66e4810a"
   },
   "outputs": [
    {
     "name": "stdout",
     "output_type": "stream",
     "text": [
      "Null Values :\n",
      "\n",
      "-1    288\n",
      "Name: job, dtype: int64\n",
      "\n",
      "\n",
      "-1    1857\n",
      "Name: education, dtype: int64\n",
      "\n",
      "\n",
      "-1    50\n",
      "Name: balance, dtype: int64\n",
      "\n",
      "\n",
      "-1    13020\n",
      "Name: contact, dtype: int64\n",
      "\n",
      "\n",
      "-1    36954\n",
      "Name: pdays, dtype: int64\n",
      "\n",
      "\n",
      "-1    36959\n",
      "Name: poutcome, dtype: int64\n",
      "\n",
      "\n"
     ]
    }
   ],
   "source": [
    "print('Null Values :\\n')                                                          #all null values in our dataset\n",
    "for col in dataset.columns:\n",
    "    temp = dataset[dataset[col] == -1]\n",
    "    if not temp.empty:\n",
    "        print(str(temp[col].value_counts()))\n",
    "        print('\\n')"
   ]
  },
  {
   "cell_type": "markdown",
   "metadata": {
    "colab_type": "text",
    "id": "I32F-xHcf0iF"
   },
   "source": [
    "## Decision Tree Classifier to handle missing data"
   ]
  },
  {
   "cell_type": "code",
   "execution_count": 0,
   "metadata": {
    "colab": {},
    "colab_type": "code",
    "id": "634eKhTffm-c"
   },
   "outputs": [],
   "source": [
    "from sklearn.tree import DecisionTreeClassifier\n",
    "\n",
    "for col in dataset.columns:\n",
    "    test = dataset[dataset[col] == -1]\n",
    "    train = dataset[dataset[col] != -1]\n",
    "    if not test.empty:\n",
    "        classifier = DecisionTreeClassifier()\n",
    "        classifier.fit(train.drop(col, axis=1), train[col])\n",
    "        test.loc[:, col] = classifier.predict(test.drop(col, axis=1))             #predict values for null data with trained classifier\n",
    "        train = train.append(test)\n",
    "        dataset = train.copy()"
   ]
  },
  {
   "cell_type": "code",
   "execution_count": 12,
   "metadata": {
    "colab": {
     "base_uri": "https://localhost:8080/",
     "height": 50
    },
    "colab_type": "code",
    "executionInfo": {
     "elapsed": 40056,
     "status": "ok",
     "timestamp": 1590225615780,
     "user": {
      "displayName": "adarsh joshy",
      "photoUrl": "",
      "userId": "12866353117515642396"
     },
     "user_tz": -330
    },
    "id": "Bx8GfOJof8tf",
    "outputId": "c8431970-8580-40d5-bccc-d92fc982d68e"
   },
   "outputs": [
    {
     "name": "stdout",
     "output_type": "stream",
     "text": [
      "Null Values :\n",
      "\n"
     ]
    }
   ],
   "source": [
    "print('Null Values :\\n')\n",
    "for col in dataset.columns:\n",
    "    temp = dataset[dataset[col] == -1]\n",
    "    if not temp.empty:\n",
    "        print(str(temp[col].value_counts()))\n",
    "        print('\\n')"
   ]
  },
  {
   "cell_type": "markdown",
   "metadata": {
    "colab_type": "text",
    "id": "GatkxOFBgLI7"
   },
   "source": [
    "> Handled the Null Values"
   ]
  },
  {
   "cell_type": "markdown",
   "metadata": {
    "colab_type": "text",
    "id": "hMvRssKJgXhG"
   },
   "source": [
    "## Pre-process Outliers"
   ]
  },
  {
   "cell_type": "markdown",
   "metadata": {
    "colab_type": "text",
    "id": "4gKBlTrkglBX"
   },
   "source": [
    "**IQR**<br>\n",
    "The interquartile range (IQR) is a measure of statistical dispersion, being equal to the difference between 75th and 25th percentiles<br>IQR = Q3 − Q1."
   ]
  },
  {
   "cell_type": "markdown",
   "metadata": {
    "colab_type": "text",
    "id": "krbEWK4FgyJX"
   },
   "source": [
    "### Boxplots for Data Visualisation"
   ]
  },
  {
   "cell_type": "code",
   "execution_count": 13,
   "metadata": {
    "colab": {
     "base_uri": "https://localhost:8080/",
     "height": 1000
    },
    "colab_type": "code",
    "executionInfo": {
     "elapsed": 40039,
     "status": "ok",
     "timestamp": 1590225615782,
     "user": {
      "displayName": "adarsh joshy",
      "photoUrl": "",
      "userId": "12866353117515642396"
     },
     "user_tz": -330
    },
    "id": "Ud-CO_rAgKNg",
    "outputId": "ff1bd981-7418-4ce2-fe87-4ea4c2ad421d"
   },
   "outputs": [
    {
     "data": {
      "image/png": "[encoded data removed]",
      "text/plain": [
       "<Figure size 432x288 with 1 Axes>"
      ]
     },
     "metadata": {
      "needs_background": "light",
      "tags": []
     },
     "output_type": "display_data"
    },
    {
     "data": {
      "image/png": "[encoded data removed]",
      "text/plain": [
       "<Figure size 432x288 with 1 Axes>"
      ]
     },
     "metadata": {
      "needs_background": "light",
      "tags": []
     },
     "output_type": "display_data"
    },
    {
     "data": {
      "image/png": "[encoded data removed]",
      "text/plain": [
       "<Figure size 432x288 with 1 Axes>"
      ]
     },
     "metadata": {
      "needs_background": "light",
      "tags": []
     },
     "output_type": "display_data"
    },
    {
     "data": {
      "image/png": "[encoded data removed]",
      "text/plain": [
       "<Figure size 432x288 with 1 Axes>"
      ]
     },
     "metadata": {
      "needs_background": "light",
      "tags": []
     },
     "output_type": "display_data"
    },
    {
     "data": {
      "image/png": "[encoded data removed]",
      "text/plain": [
       "<Figure size 432x288 with 1 Axes>"
      ]
     },
     "metadata": {
      "needs_background": "light",
      "tags": []
     },
     "output_type": "display_data"
    },
    {
     "data": {
      "image/png": "[encoded data removed]",
      "text/plain": [
       "<Figure size 432x288 with 1 Axes>"
      ]
     },
     "metadata": {
      "needs_background": "light",
      "tags": []
     },
     "output_type": "display_data"
    },
    {
     "data": {
      "image/png": "[encoded data removed]",
      "text/plain": [
       "<Figure size 432x288 with 1 Axes>"
      ]
     },
     "metadata": {
      "needs_background": "light",
      "tags": []
     },
     "output_type": "display_data"
    },
    {
     "data": {
      "image/png": "[encoded data removed]",
      "text/plain": [
       "<Figure size 432x288 with 1 Axes>"
      ]
     },
     "metadata": {
      "needs_background": "light",
      "tags": []
     },
     "output_type": "display_data"
    },
    {
     "data": {
      "image/png": "[encoded data removed]",
      "text/plain": [
       "<Figure size 432x288 with 1 Axes>"
      ]
     },
     "metadata": {
      "needs_background": "light",
      "tags": []
     },
     "output_type": "display_data"
    },
    {
     "data": {
      "image/png": "[encoded data removed]",
      "text/plain": [
       "<Figure size 432x288 with 1 Axes>"
      ]
     },
     "metadata": {
      "needs_background": "light",
      "tags": []
     },
     "output_type": "display_data"
    }
   ],
   "source": [
    "columns = ['age', 'job', 'marital', 'education', 'balance', 'day', 'month', 'campaign', 'pdays', 'previous']\n",
    "for col in columns:\n",
    "    if col != 'y':\n",
    "        sns.boxplot(y=dataset[col], x=dataset['y'])                               #bivariate analysis\n",
    "        plt.title(col +' vs target variable (y)')\n",
    "        plt.xlabel('target variable (y)')\n",
    "        plt.show()"
   ]
  },
  {
   "cell_type": "code",
   "execution_count": 14,
   "metadata": {
    "colab": {
     "base_uri": "https://localhost:8080/",
     "height": 218
    },
    "colab_type": "code",
    "executionInfo": {
     "elapsed": 40012,
     "status": "ok",
     "timestamp": 1590225615784,
     "user": {
      "displayName": "adarsh joshy",
      "photoUrl": "",
      "userId": "12866353117515642396"
     },
     "user_tz": -330
    },
    "id": "dvi931v2g5MG",
    "outputId": "cf0b8a8d-a868-4b46-8564-d7a97216d75b"
   },
   "outputs": [
    {
     "name": "stdout",
     "output_type": "stream",
     "text": [
      "IQR:\n",
      "\n",
      "age : 15.0\n",
      "job : 3.0\n",
      "marital : 1.0\n",
      "education : 1.0\n",
      "balance : 1357.0\n",
      "day : 13.0\n",
      "month : 4.0\n",
      "campaign : 2.0\n",
      "pdays : 215.0\n",
      "previous : 0.0\n"
     ]
    }
   ],
   "source": [
    "columns = ['age', 'job', 'marital', 'education', 'balance', 'day', 'month', 'campaign', 'pdays', 'previous']\n",
    "print('IQR:\\n')\n",
    "for col in columns:\n",
    "    iqr = dataset[col].quantile(0.75) - dataset[col].quantile(0.25)\n",
    "    print(col +' : ' + str(iqr))"
   ]
  },
  {
   "cell_type": "markdown",
   "metadata": {
    "colab_type": "text",
    "id": "3FEXDXrdhc5T"
   },
   "source": [
    "> **Analysis :**<br>\n",
    "><ul>\n",
    "    <li>age, job, month and previous are not real outliers as they do not have highly ambiguous values</li>\n",
    "    <li>balance, campaign, pdays have outliers</li>\n",
    " </ul>"
   ]
  },
  {
   "cell_type": "code",
   "execution_count": 0,
   "metadata": {
    "colab": {},
    "colab_type": "code",
    "id": "V3Qx9ib6hZ6s"
   },
   "outputs": [],
   "source": [
    "codeList = ['balance', 'campaign', 'pdays']\n",
    "for item in codeList:\n",
    "    Q1 = dataset[item].quantile(0.25)\n",
    "    Q3 = dataset[item].quantile(0.75)\n",
    "    IQR = Q3 - Q1\n",
    "    top = Q3 + (1.5 * IQR)\n",
    "    bottom = Q1 - (1.5 * IQR)\n",
    "    dataset.loc[dataset[item] > top, item] = top                                  #top coding to remove outliers\n",
    "    dataset.loc[dataset[item] < bottom, item] = bottom                            #bottom coding to remove outliers  "
   ]
  },
  {
   "cell_type": "code",
   "execution_count": 16,
   "metadata": {
    "colab": {
     "base_uri": "https://localhost:8080/",
     "height": 851
    },
    "colab_type": "code",
    "executionInfo": {
     "elapsed": 43772,
     "status": "ok",
     "timestamp": 1590225619575,
     "user": {
      "displayName": "adarsh joshy",
      "photoUrl": "",
      "userId": "12866353117515642396"
     },
     "user_tz": -330
    },
    "id": "N-fEewDkhqEc",
    "outputId": "bcb26bbc-d3d9-41c0-e173-cb2de6056838"
   },
   "outputs": [
    {
     "data": {
      "image/png": "[encoded data removed]",
      "text/plain": [
       "<Figure size 432x288 with 1 Axes>"
      ]
     },
     "metadata": {
      "needs_background": "light",
      "tags": []
     },
     "output_type": "display_data"
    },
    {
     "data": {
      "image/png": "[encoded data removed]",
      "text/plain": [
       "<Figure size 432x288 with 1 Axes>"
      ]
     },
     "metadata": {
      "needs_background": "light",
      "tags": []
     },
     "output_type": "display_data"
    },
    {
     "data": {
      "image/png": "[encoded data removed]",
      "text/plain": [
       "<Figure size 432x288 with 1 Axes>"
      ]
     },
     "metadata": {
      "needs_background": "light",
      "tags": []
     },
     "output_type": "display_data"
    }
   ],
   "source": [
    "columns = ['balance', 'campaign', 'pdays']\n",
    "for col in columns:\n",
    "    sns.boxplot(y=dataset[col], x=dataset['y'])                                   #bivariate analysis\n",
    "    plt.title(col +' vs target variable (y)')\n",
    "    plt.xlabel('target variable (y)')\n",
    "    plt.show()"
   ]
  },
  {
   "cell_type": "markdown",
   "metadata": {
    "colab_type": "text",
    "id": "GTjGQqqgiZ3v"
   },
   "source": [
    "> outliers have been handled"
   ]
  },
  {
   "cell_type": "markdown",
   "metadata": {
    "colab_type": "text",
    "id": "sdX3eU7LiaFH"
   },
   "source": [
    "## Heatmap for Data Visualisation"
   ]
  },
  {
   "cell_type": "code",
   "execution_count": 17,
   "metadata": {
    "colab": {
     "base_uri": "https://localhost:8080/",
     "height": 581
    },
    "colab_type": "code",
    "executionInfo": {
     "elapsed": 43706,
     "status": "ok",
     "timestamp": 1590225619577,
     "user": {
      "displayName": "adarsh joshy",
      "photoUrl": "",
      "userId": "12866353117515642396"
     },
     "user_tz": -330
    },
    "id": "3yziSi-UhvfF",
    "outputId": "146830db-4551-4191-8c6d-a329264d31fa"
   },
   "outputs": [
    {
     "data": {
      "image/png": "[encoded data removed]",
      "text/plain": [
       "<Figure size 1080x648 with 2 Axes>"
      ]
     },
     "metadata": {
      "needs_background": "light",
      "tags": []
     },
     "output_type": "display_data"
    }
   ],
   "source": [
    "fig, ax = plt.subplots(1, 1, figsize=(15,9))\n",
    "sns.heatmap(dataset.corr(), annot=True, cmap=sns.color_palette(\"Blues\"), ax=ax)   #bivariate Analysis\n",
    "plt.show()"
   ]
  },
  {
   "cell_type": "markdown",
   "metadata": {
    "colab_type": "text",
    "id": "ID6tB4B3jVm7"
   },
   "source": [
    ">**Analysis :**<br>\n",
    "><ul>\n",
    "    <li>age has a negative correlation with housing, contact and education</li>\n",
    "    <li>housing has a correlation with job, month and pdays</li>\n",
    "    <li>month has a high correlation with pdays</li>\n",
    "    <li>pdays has a correlation with poutcome</li>\n",
    "    <li>y has a high correlation with poutcome and month</li>\n",
    "  </ul>"
   ]
  },
  {
   "cell_type": "code",
   "execution_count": 0,
   "metadata": {
    "colab": {},
    "colab_type": "code",
    "id": "1OvWSvjNjCAS"
   },
   "outputs": [],
   "source": [
    "labels = dataset.iloc[:, :-1].columns.to_list()\n",
    "X = dataset.iloc[:,:-1].values                                                    #Seperating independent variables and target variable\n",
    "y = dataset.iloc[:,-1].values"
   ]
  },
  {
   "cell_type": "markdown",
   "metadata": {
    "colab_type": "text",
    "id": "BN6BApYfje-U"
   },
   "source": [
    "# Feature Selection using Random Forest"
   ]
  },
  {
   "cell_type": "code",
   "execution_count": 0,
   "metadata": {
    "colab": {},
    "colab_type": "code",
    "id": "zKgfaDcXjZgs"
   },
   "outputs": [],
   "source": [
    "from sklearn.ensemble import RandomForestClassifier\n",
    "from sklearn.feature_selection import SelectFromModel\n",
    "from sklearn.model_selection import train_test_split\n",
    "from sklearn.metrics import accuracy_score"
   ]
  },
  {
   "cell_type": "code",
   "execution_count": 0,
   "metadata": {
    "colab": {},
    "colab_type": "code",
    "id": "gCdm-c3SjnHe"
   },
   "outputs": [],
   "source": [
    "X_train, X_test, y_train, y_test = train_test_split(X, y, test_size=0.2, random_state=0)"
   ]
  },
  {
   "cell_type": "code",
   "execution_count": 21,
   "metadata": {
    "colab": {
     "base_uri": "https://localhost:8080/",
     "height": 151
    },
    "colab_type": "code",
    "executionInfo": {
     "elapsed": 47370,
     "status": "ok",
     "timestamp": 1590225623305,
     "user": {
      "displayName": "adarsh joshy",
      "photoUrl": "",
      "userId": "12866353117515642396"
     },
     "user_tz": -330
    },
    "id": "kDcPA8TPmL5u",
    "outputId": "e0444f82-062c-45d8-8005-26ad11d3f331"
   },
   "outputs": [
    {
     "data": {
      "text/plain": [
       "RandomForestClassifier(bootstrap=True, ccp_alpha=0.0, class_weight=None,\n",
       "                       criterion='gini', max_depth=None, max_features='auto',\n",
       "                       max_leaf_nodes=None, max_samples=None,\n",
       "                       min_impurity_decrease=0.0, min_impurity_split=None,\n",
       "                       min_samples_leaf=1, min_samples_split=2,\n",
       "                       min_weight_fraction_leaf=0.0, n_estimators=100,\n",
       "                       n_jobs=-1, oob_score=False, random_state=0, verbose=0,\n",
       "                       warm_start=False)"
      ]
     },
     "execution_count": 21,
     "metadata": {
      "tags": []
     },
     "output_type": "execute_result"
    }
   ],
   "source": [
    "classifier = RandomForestClassifier(n_estimators=100, n_jobs=-1, random_state=0)\n",
    "classifier.fit(X_train, y_train)"
   ]
  },
  {
   "cell_type": "code",
   "execution_count": 22,
   "metadata": {
    "colab": {
     "base_uri": "https://localhost:8080/",
     "height": 302
    },
    "colab_type": "code",
    "executionInfo": {
     "elapsed": 53020,
     "status": "ok",
     "timestamp": 1590225628971,
     "user": {
      "displayName": "adarsh joshy",
      "photoUrl": "",
      "userId": "12866353117515642396"
     },
     "user_tz": -330
    },
    "id": "Vfl3pd8VmOOp",
    "outputId": "f9d7ddbd-5b0f-4645-d785-859ebb88f1cd"
   },
   "outputs": [
    {
     "data": {
      "text/plain": [
       "SelectFromModel(estimator=RandomForestClassifier(bootstrap=True, ccp_alpha=0.0,\n",
       "                                                 class_weight=None,\n",
       "                                                 criterion='gini',\n",
       "                                                 max_depth=None,\n",
       "                                                 max_features='auto',\n",
       "                                                 max_leaf_nodes=None,\n",
       "                                                 max_samples=None,\n",
       "                                                 min_impurity_decrease=0.0,\n",
       "                                                 min_impurity_split=None,\n",
       "                                                 min_samples_leaf=1,\n",
       "                                                 min_samples_split=2,\n",
       "                                                 min_weight_fraction_leaf=0.0,\n",
       "                                                 n_estimators=100, n_jobs=-1,\n",
       "                                                 oob_score=False,\n",
       "                                                 random_state=0, verbose=0,\n",
       "                                                 warm_start=False),\n",
       "                max_features=None, norm_order=1, prefit=False, threshold=0.05)"
      ]
     },
     "execution_count": 22,
     "metadata": {
      "tags": []
     },
     "output_type": "execute_result"
    }
   ],
   "source": [
    "select = SelectFromModel(classifier, threshold=0.05)\n",
    "select.fit(X_train, y_train)                                                      # select features that have an importance of more than 0.05"
   ]
  },
  {
   "cell_type": "code",
   "execution_count": 23,
   "metadata": {
    "colab": {
     "base_uri": "https://localhost:8080/",
     "height": 168
    },
    "colab_type": "code",
    "executionInfo": {
     "elapsed": 53006,
     "status": "ok",
     "timestamp": 1590225628973,
     "user": {
      "displayName": "adarsh joshy",
      "photoUrl": "",
      "userId": "12866353117515642396"
     },
     "user_tz": -330
    },
    "id": "8TKip0J1ooXb",
    "outputId": "2847c0f4-78fb-44a7-f4e1-e8620092aa65"
   },
   "outputs": [
    {
     "name": "stdout",
     "output_type": "stream",
     "text": [
      "Selected features are :\n",
      "age\n",
      "job\n",
      "balance\n",
      "day\n",
      "month\n",
      "pdays\n",
      "previous\n",
      "poutcome\n"
     ]
    }
   ],
   "source": [
    "print('Selected features are :')\n",
    "for feature_list_index in select.get_support(indices=True):                       #printing selected features\n",
    "    print(labels[feature_list_index])"
   ]
  },
  {
   "cell_type": "code",
   "execution_count": 0,
   "metadata": {
    "colab": {},
    "colab_type": "code",
    "id": "3USC4cYdoqqv"
   },
   "outputs": [],
   "source": [
    "X_new_train = select.transform(X_train)\n",
    "X_new_test = select.transform(X_test)"
   ]
  },
  {
   "cell_type": "code",
   "execution_count": 25,
   "metadata": {
    "colab": {
     "base_uri": "https://localhost:8080/",
     "height": 151
    },
    "colab_type": "code",
    "executionInfo": {
     "elapsed": 60978,
     "status": "ok",
     "timestamp": 1590225636971,
     "user": {
      "displayName": "adarsh joshy",
      "photoUrl": "",
      "userId": "12866353117515642396"
     },
     "user_tz": -330
    },
    "id": "Jz2ZtItNqg61",
    "outputId": "7fcfb397-036d-481a-c50b-919d2141649c"
   },
   "outputs": [
    {
     "data": {
      "text/plain": [
       "RandomForestClassifier(bootstrap=True, ccp_alpha=0.0, class_weight=None,\n",
       "                       criterion='gini', max_depth=None, max_features='auto',\n",
       "                       max_leaf_nodes=None, max_samples=None,\n",
       "                       min_impurity_decrease=0.0, min_impurity_split=None,\n",
       "                       min_samples_leaf=1, min_samples_split=2,\n",
       "                       min_weight_fraction_leaf=0.0, n_estimators=100,\n",
       "                       n_jobs=-1, oob_score=False, random_state=0, verbose=0,\n",
       "                       warm_start=False)"
      ]
     },
     "execution_count": 25,
     "metadata": {
      "tags": []
     },
     "output_type": "execute_result"
    }
   ],
   "source": [
    "classifier_new = RandomForestClassifier(n_estimators=100, n_jobs=-1, random_state=0)\n",
    "classifier_new.fit(X_new_train, y_train)                                          #train classifier on new data (with selected features)"
   ]
  },
  {
   "cell_type": "code",
   "execution_count": 26,
   "metadata": {
    "colab": {
     "base_uri": "https://localhost:8080/",
     "height": 34
    },
    "colab_type": "code",
    "executionInfo": {
     "elapsed": 60965,
     "status": "ok",
     "timestamp": 1590225636973,
     "user": {
      "displayName": "adarsh joshy",
      "photoUrl": "",
      "userId": "12866353117515642396"
     },
     "user_tz": -330
    },
    "id": "4tzdVhu-qnlq",
    "outputId": "4ddd9b60-8b38-4cca-9ae0-d72b1d2582ce"
   },
   "outputs": [
    {
     "data": {
      "text/plain": [
       "0.918279332080062"
      ]
     },
     "execution_count": 26,
     "metadata": {
      "tags": []
     },
     "output_type": "execute_result"
    }
   ],
   "source": [
    "y_pred = classifier.predict(X_test)\n",
    "accuracy_score(y_test, y_pred)                                                    #accuracy score on original data"
   ]
  },
  {
   "cell_type": "code",
   "execution_count": 27,
   "metadata": {
    "colab": {
     "base_uri": "https://localhost:8080/",
     "height": 34
    },
    "colab_type": "code",
    "executionInfo": {
     "elapsed": 60950,
     "status": "ok",
     "timestamp": 1590225636975,
     "user": {
      "displayName": "adarsh joshy",
      "photoUrl": "",
      "userId": "12866353117515642396"
     },
     "user_tz": -330
    },
    "id": "hdkqcVi1rMOg",
    "outputId": "eb217b67-9120-4205-ec1b-83d5a7b0951d"
   },
   "outputs": [
    {
     "data": {
      "text/plain": [
       "0.9204909875041468"
      ]
     },
     "execution_count": 27,
     "metadata": {
      "tags": []
     },
     "output_type": "execute_result"
    }
   ],
   "source": [
    "y_new_pred = classifier_new.predict(X_new_test)\n",
    "accuracy_score(y_test, y_new_pred)                                                #accuracy score on new data"
   ]
  },
  {
   "cell_type": "markdown",
   "metadata": {
    "colab_type": "text",
    "id": "Jg18mTjkQynL"
   },
   "source": [
    "> **Obtained a better score after feature selection**"
   ]
  },
  {
   "cell_type": "markdown",
   "metadata": {
    "colab_type": "text",
    "id": "U_S6mZTQQ4vW"
   },
   "source": [
    "# Dimensionality reduction using PCA"
   ]
  },
  {
   "cell_type": "code",
   "execution_count": 0,
   "metadata": {
    "colab": {},
    "colab_type": "code",
    "id": "2jcdEjDoQzYX"
   },
   "outputs": [],
   "source": [
    "X_train, X_test, y_train, y_test = train_test_split(X, y, test_size=0.2, random_state=0)"
   ]
  },
  {
   "cell_type": "code",
   "execution_count": 0,
   "metadata": {
    "colab": {},
    "colab_type": "code",
    "id": "inE4rtz2RHCa"
   },
   "outputs": [],
   "source": [
    "from sklearn.preprocessing import StandardScaler\n",
    "scaler = StandardScaler()                                                         #Scaling data for more accuracy\n",
    "X_train = scaler.fit_transform(X_train)\n",
    "X_test = scaler.transform(X_test)"
   ]
  },
  {
   "cell_type": "code",
   "execution_count": 0,
   "metadata": {
    "colab": {},
    "colab_type": "code",
    "id": "sxWsZ-DtRMA_"
   },
   "outputs": [],
   "source": [
    "from sklearn.decomposition import PCA\n",
    "pca = PCA(.95)                                                                    #min components such that variance = 95%"
   ]
  },
  {
   "cell_type": "code",
   "execution_count": 31,
   "metadata": {
    "colab": {
     "base_uri": "https://localhost:8080/",
     "height": 50
    },
    "colab_type": "code",
    "executionInfo": {
     "elapsed": 60904,
     "status": "ok",
     "timestamp": 1590225636982,
     "user": {
      "displayName": "adarsh joshy",
      "photoUrl": "",
      "userId": "12866353117515642396"
     },
     "user_tz": -330
    },
    "id": "5z1XmZMkROj8",
    "outputId": "a2e8336b-cb57-4401-ecc7-40fa75160167"
   },
   "outputs": [
    {
     "data": {
      "text/plain": [
       "PCA(copy=True, iterated_power='auto', n_components=0.95, random_state=None,\n",
       "    svd_solver='auto', tol=0.0, whiten=False)"
      ]
     },
     "execution_count": 31,
     "metadata": {
      "tags": []
     },
     "output_type": "execute_result"
    }
   ],
   "source": [
    "pca.fit(X_train)"
   ]
  },
  {
   "cell_type": "code",
   "execution_count": 0,
   "metadata": {
    "colab": {},
    "colab_type": "code",
    "id": "aAADkc9SRQR4"
   },
   "outputs": [],
   "source": [
    "X_pca_train = pca.transform(X_train)\n",
    "X_pca_test = pca.transform(X_test)"
   ]
  },
  {
   "cell_type": "markdown",
   "metadata": {
    "colab_type": "text",
    "id": "0tv3Ul0ARXUo"
   },
   "source": [
    "## Feature Selection vs Dimentionality reduction"
   ]
  },
  {
   "cell_type": "code",
   "execution_count": 0,
   "metadata": {
    "colab": {},
    "colab_type": "code",
    "id": "eidozwRnRSpu"
   },
   "outputs": [],
   "source": [
    "from sklearn.linear_model import LogisticRegression\n",
    "from sklearn.model_selection import cross_val_score\n",
    "classifier = LogisticRegression(solver = 'lbfgs')"
   ]
  },
  {
   "cell_type": "code",
   "execution_count": 34,
   "metadata": {
    "colab": {
     "base_uri": "https://localhost:8080/",
     "height": 101
    },
    "colab_type": "code",
    "executionInfo": {
     "elapsed": 60870,
     "status": "ok",
     "timestamp": 1590225636987,
     "user": {
      "displayName": "adarsh joshy",
      "photoUrl": "",
      "userId": "12866353117515642396"
     },
     "user_tz": -330
    },
    "id": "xwKmI6xMRe0P",
    "outputId": "93471da4-6679-4466-cfdf-4cca4ff64aea"
   },
   "outputs": [
    {
     "data": {
      "text/plain": [
       "LogisticRegression(C=1.0, class_weight=None, dual=False, fit_intercept=True,\n",
       "                   intercept_scaling=1, l1_ratio=None, max_iter=100,\n",
       "                   multi_class='auto', n_jobs=None, penalty='l2',\n",
       "                   random_state=None, solver='lbfgs', tol=0.0001, verbose=0,\n",
       "                   warm_start=False)"
      ]
     },
     "execution_count": 34,
     "metadata": {
      "tags": []
     },
     "output_type": "execute_result"
    }
   ],
   "source": [
    "classifier.fit(X_new_train, y_train)"
   ]
  },
  {
   "cell_type": "code",
   "execution_count": 35,
   "metadata": {
    "colab": {
     "base_uri": "https://localhost:8080/",
     "height": 34
    },
    "colab_type": "code",
    "executionInfo": {
     "elapsed": 60852,
     "status": "ok",
     "timestamp": 1590225636989,
     "user": {
      "displayName": "adarsh joshy",
      "photoUrl": "",
      "userId": "12866353117515642396"
     },
     "user_tz": -330
    },
    "id": "r5A-iLPhRhSZ",
    "outputId": "7332e5e9-787e-4ac2-9386-c899ad9d4cdd"
   },
   "outputs": [
    {
     "name": "stdout",
     "output_type": "stream",
     "text": [
      "accuracy score : 0.8919606325334513\n"
     ]
    }
   ],
   "source": [
    "y_new_pred = classifier.predict(X_new_test)\n",
    "print('accuracy score : ' + str(accuracy_score(y_test, y_new_pred)))              #accuracy score on feature selection"
   ]
  },
  {
   "cell_type": "code",
   "execution_count": 36,
   "metadata": {
    "colab": {
     "base_uri": "https://localhost:8080/",
     "height": 101
    },
    "colab_type": "code",
    "executionInfo": {
     "elapsed": 60830,
     "status": "ok",
     "timestamp": 1590225636991,
     "user": {
      "displayName": "adarsh joshy",
      "photoUrl": "",
      "userId": "12866353117515642396"
     },
     "user_tz": -330
    },
    "id": "pjgxe3YKRjx4",
    "outputId": "dc413f20-eb56-4197-d736-baf6d3ffb229"
   },
   "outputs": [
    {
     "data": {
      "text/plain": [
       "LogisticRegression(C=1.0, class_weight=None, dual=False, fit_intercept=True,\n",
       "                   intercept_scaling=1, l1_ratio=None, max_iter=100,\n",
       "                   multi_class='auto', n_jobs=None, penalty='l2',\n",
       "                   random_state=None, solver='lbfgs', tol=0.0001, verbose=0,\n",
       "                   warm_start=False)"
      ]
     },
     "execution_count": 36,
     "metadata": {
      "tags": []
     },
     "output_type": "execute_result"
    }
   ],
   "source": [
    "classifier.fit(X_pca_train, y_train)"
   ]
  },
  {
   "cell_type": "code",
   "execution_count": 37,
   "metadata": {
    "colab": {
     "base_uri": "https://localhost:8080/",
     "height": 34
    },
    "colab_type": "code",
    "executionInfo": {
     "elapsed": 60808,
     "status": "ok",
     "timestamp": 1590225636992,
     "user": {
      "displayName": "adarsh joshy",
      "photoUrl": "",
      "userId": "12866353117515642396"
     },
     "user_tz": -330
    },
    "id": "rlDKBbHpRsgN",
    "outputId": "fabf2614-5099-4063-d699-173d09b4acf5"
   },
   "outputs": [
    {
     "name": "stdout",
     "output_type": "stream",
     "text": [
      "accuracy score : 0.8917394669910428\n"
     ]
    }
   ],
   "source": [
    "y_pca_pred = classifier.predict(X_pca_test)\n",
    "print('accuracy score : ' + str(accuracy_score(y_test, y_pca_pred)))              #accuracy score on dimentionality reduction"
   ]
  },
  {
   "cell_type": "code",
   "execution_count": 38,
   "metadata": {
    "colab": {
     "base_uri": "https://localhost:8080/",
     "height": 50
    },
    "colab_type": "code",
    "executionInfo": {
     "elapsed": 60785,
     "status": "ok",
     "timestamp": 1590225636995,
     "user": {
      "displayName": "adarsh joshy",
      "photoUrl": "",
      "userId": "12866353117515642396"
     },
     "user_tz": -330
    },
    "id": "5AiDqiJWQ4zM",
    "outputId": "d4dae77a-5481-419e-a603-20a06b596823"
   },
   "outputs": [
    {
     "name": "stdout",
     "output_type": "stream",
     "text": [
      "Feature Selection model : 2\n",
      "Dimensionality Reduction model : 2\n"
     ]
    }
   ],
   "source": [
    "print('Feature Selection model : ' + str(X_new_train.ndim))                       #no. of dimensions in each case\n",
    "print('Dimensionality Reduction model : ' +  str(X_pca_train.ndim))"
   ]
  },
  {
   "cell_type": "code",
   "execution_count": 39,
   "metadata": {
    "colab": {
     "base_uri": "https://localhost:8080/",
     "height": 50
    },
    "colab_type": "code",
    "executionInfo": {
     "elapsed": 65526,
     "status": "ok",
     "timestamp": 1590225641771,
     "user": {
      "displayName": "adarsh joshy",
      "photoUrl": "",
      "userId": "12866353117515642396"
     },
     "user_tz": -330
    },
    "id": "BGmlLqW8fJay",
    "outputId": "d20c2f64-f618-4f4f-84f2-ac90e9a31640"
   },
   "outputs": [
    {
     "name": "stdout",
     "output_type": "stream",
     "text": [
      "mean cross validation error in Feature Selection model : 0.8867783356495018\n",
      "mean cross validation error in Dimensionality Reduction model : 0.8879673114422797\n"
     ]
    }
   ],
   "source": [
    "print('mean cross validation error in Feature Selection model : ' + str(np.mean(cross_val_score(classifier, X_new_train, y_train, cv=10))))\n",
    "print('mean cross validation error in Dimensionality Reduction model : ' + str(np.mean(cross_val_score(classifier, X_pca_train, y_train, cv=10))))"
   ]
  },
  {
   "cell_type": "markdown",
   "metadata": {
    "colab_type": "text",
    "id": "TD4OQeobSS0I"
   },
   "source": [
    ">**Data with Feature Selection would be chosen :**<br>\n",
    "><ul>\n",
    "  <li>Both have similar accuracy score</li>\n",
    "  <li>Both have similar cross validation error</li>\n",
    "  <li>They have same number of dimensions</li>\n",
    "  <li>Feature selection nearly halves the number of independent variable required</li>\n",
    "</ul>\n",
    "\n"
   ]
  },
  {
   "cell_type": "markdown",
   "metadata": {
    "colab_type": "text",
    "id": "3Fjy83sOS84Q"
   },
   "source": [
    "# Model Training and Evaluation"
   ]
  },
  {
   "cell_type": "markdown",
   "metadata": {
    "colab_type": "text",
    "id": "NIpadcn3TUiK"
   },
   "source": [
    "## Logistic Regression"
   ]
  },
  {
   "cell_type": "markdown",
   "metadata": {
    "colab_type": "text",
    "id": "PfYhn-hqXqZl"
   },
   "source": [
    "### Hyperparameter tuning"
   ]
  },
  {
   "cell_type": "code",
   "execution_count": 0,
   "metadata": {
    "colab": {},
    "colab_type": "code",
    "id": "_MU9CcZfYLh-"
   },
   "outputs": [],
   "source": [
    "from sklearn.model_selection import GridSearchCV\n",
    "from sklearn.metrics import confusion_matrix, f1_score"
   ]
  },
  {
   "cell_type": "code",
   "execution_count": 41,
   "metadata": {
    "colab": {
     "base_uri": "https://localhost:8080/",
     "height": 50
    },
    "colab_type": "code",
    "executionInfo": {
     "elapsed": 77621,
     "status": "ok",
     "timestamp": 1590225653926,
     "user": {
      "displayName": "adarsh joshy",
      "photoUrl": "",
      "userId": "12866353117515642396"
     },
     "user_tz": -330
    },
    "id": "AzJycCxnRu3A",
    "outputId": "41da6ca8-eaa1-4ac0-a54a-3709bbeabd11"
   },
   "outputs": [
    {
     "name": "stdout",
     "output_type": "stream",
     "text": [
      "Best parameters : {'C': 0.001}\n",
      "Best score : 0.7462121987889117\n"
     ]
    }
   ],
   "source": [
    "parameters = {'C' : [0.001, 0.01, 0.1, 1, 10]}                                    #finding the correct 'C' value for our model\n",
    "classifier = LogisticRegression(class_weight='balanced')\n",
    "classifier_ = GridSearchCV(classifier, parameters, cv=5)\n",
    "classifier_.fit(X_new_train, y_train)\n",
    "print('Best parameters : ' + str(classifier_.best_params_))\n",
    "print('Best score : ' + str(classifier_.best_score_))"
   ]
  },
  {
   "cell_type": "code",
   "execution_count": 42,
   "metadata": {
    "colab": {
     "base_uri": "https://localhost:8080/",
     "height": 101
    },
    "colab_type": "code",
    "executionInfo": {
     "elapsed": 77589,
     "status": "ok",
     "timestamp": 1590225653928,
     "user": {
      "displayName": "adarsh joshy",
      "photoUrl": "",
      "userId": "12866353117515642396"
     },
     "user_tz": -330
    },
    "id": "M5WHlUMKUgyP",
    "outputId": "2da85fd1-1904-4d61-b3f3-2a49dfbb7222"
   },
   "outputs": [
    {
     "data": {
      "text/plain": [
       "LogisticRegression(C=0.001, class_weight='balanced', dual=False,\n",
       "                   fit_intercept=True, intercept_scaling=1, l1_ratio=None,\n",
       "                   max_iter=100, multi_class='auto', n_jobs=None, penalty='l2',\n",
       "                   random_state=None, solver='lbfgs', tol=0.0001, verbose=0,\n",
       "                   warm_start=False)"
      ]
     },
     "execution_count": 42,
     "metadata": {
      "tags": []
     },
     "output_type": "execute_result"
    }
   ],
   "source": [
    "classifier = LogisticRegression(C=0.001, class_weight='balanced')\n",
    "classifier.fit(X_new_train, y_train)"
   ]
  },
  {
   "cell_type": "code",
   "execution_count": 43,
   "metadata": {
    "colab": {
     "base_uri": "https://localhost:8080/",
     "height": 101
    },
    "colab_type": "code",
    "executionInfo": {
     "elapsed": 77575,
     "status": "ok",
     "timestamp": 1590225653936,
     "user": {
      "displayName": "adarsh joshy",
      "photoUrl": "",
      "userId": "12866353117515642396"
     },
     "user_tz": -330
    },
    "id": "WjMVZiNfcb7F",
    "outputId": "f6e361d6-76d7-4737-a629-8e4400bf8cc7"
   },
   "outputs": [
    {
     "name": "stdout",
     "output_type": "stream",
     "text": [
      "confusion matrix :\n",
      " [[ 685  349]\n",
      " [1898 6111]]\n",
      "accuracy score : 0.7515205131040584\n",
      "F1 score : 0.8447024673439767\n"
     ]
    }
   ],
   "source": [
    "y_pred = classifier.predict(X_new_test)                                           #Evaluating the model\n",
    "confusion_lr = confusion_matrix(y_test, y_pred)\n",
    "accuracy_lr = accuracy_score(y_test, y_pred)\n",
    "f1_lr = f1_score(y_test, y_pred)\n",
    "print('confusion matrix :\\n', confusion_lr)\n",
    "print('accuracy score : ' + str(accuracy_lr))\n",
    "print('F1 score : ' + str(f1_lr))"
   ]
  },
  {
   "cell_type": "markdown",
   "metadata": {
    "colab_type": "text",
    "id": "7gg6mmAuO7L-"
   },
   "source": [
    "## Random Forest Classifier"
   ]
  },
  {
   "cell_type": "markdown",
   "metadata": {
    "colab_type": "text",
    "id": "qS4HgrliPIRK"
   },
   "source": [
    "### Hyperparameter tuning"
   ]
  },
  {
   "cell_type": "code",
   "execution_count": 44,
   "metadata": {
    "colab": {
     "base_uri": "https://localhost:8080/",
     "height": 50
    },
    "colab_type": "code",
    "executionInfo": {
     "elapsed": 307436,
     "status": "ok",
     "timestamp": 1590225883819,
     "user": {
      "displayName": "adarsh joshy",
      "photoUrl": "",
      "userId": "12866353117515642396"
     },
     "user_tz": -330
    },
    "id": "9gYkaghvPXpM",
    "outputId": "ecd58f22-68e4-43e7-d043-327db017e806"
   },
   "outputs": [
    {
     "name": "stdout",
     "output_type": "stream",
     "text": [
      "Best parameters : {'max_depth': 25, 'n_estimators': 100}\n",
      "Best score : 0.9138188748073954\n"
     ]
    }
   ],
   "source": [
    "parameters = { 'max_depth': [5, 10, 15, 25],                                      #finding correct 'max_depth' and 'n_estimators' for our model\n",
    "               'n_estimators': [75, 100, 200, 250]}\n",
    "classifier = RandomForestClassifier()\n",
    "classifier_ = GridSearchCV(classifier, parameters, cv=5, n_jobs=-1)\n",
    "classifier_.fit(X_new_train, y_train)\n",
    "print('Best parameters : ' + str(classifier_.best_params_))\n",
    "print('Best score : ' + str(classifier_.best_score_))"
   ]
  },
  {
   "cell_type": "code",
   "execution_count": 45,
   "metadata": {
    "colab": {
     "base_uri": "https://localhost:8080/",
     "height": 151
    },
    "colab_type": "code",
    "executionInfo": {
     "elapsed": 313149,
     "status": "ok",
     "timestamp": 1590225889561,
     "user": {
      "displayName": "adarsh joshy",
      "photoUrl": "",
      "userId": "12866353117515642396"
     },
     "user_tz": -330
    },
    "id": "2kmvipAkqON8",
    "outputId": "d1df103d-552a-4381-d174-172e19f9e502"
   },
   "outputs": [
    {
     "data": {
      "text/plain": [
       "RandomForestClassifier(bootstrap=True, ccp_alpha=0.0, class_weight=None,\n",
       "                       criterion='gini', max_depth=25, max_features='auto',\n",
       "                       max_leaf_nodes=None, max_samples=None,\n",
       "                       min_impurity_decrease=0.0, min_impurity_split=None,\n",
       "                       min_samples_leaf=1, min_samples_split=2,\n",
       "                       min_weight_fraction_leaf=0.0, n_estimators=100,\n",
       "                       n_jobs=-1, oob_score=False, random_state=None, verbose=0,\n",
       "                       warm_start=False)"
      ]
     },
     "execution_count": 45,
     "metadata": {
      "tags": []
     },
     "output_type": "execute_result"
    }
   ],
   "source": [
    "classifier = RandomForestClassifier(max_depth=25, n_estimators=100, n_jobs=-1)\n",
    "classifier.fit(X_new_train, y_train)"
   ]
  },
  {
   "cell_type": "code",
   "execution_count": 46,
   "metadata": {
    "colab": {
     "base_uri": "https://localhost:8080/",
     "height": 101
    },
    "colab_type": "code",
    "executionInfo": {
     "elapsed": 313136,
     "status": "ok",
     "timestamp": 1590225889563,
     "user": {
      "displayName": "adarsh joshy",
      "photoUrl": "",
      "userId": "12866353117515642396"
     },
     "user_tz": -330
    },
    "id": "xTvah9virYve",
    "outputId": "b5643364-e616-4c87-fc7c-01f484a2cb37"
   },
   "outputs": [
    {
     "name": "stdout",
     "output_type": "stream",
     "text": [
      "confusion matrix :\n",
      " [[ 464  570]\n",
      " [ 153 7856]]\n",
      "accuracy score : 0.9200486564193299\n",
      "F1 score : 0.9560085184058411\n"
     ]
    }
   ],
   "source": [
    "y_pred = classifier.predict(X_new_test)                                           #Evaluating the model\n",
    "confusion_rf = confusion_matrix(y_test, y_pred)\n",
    "accuracy_rf = accuracy_score(y_test, y_pred)\n",
    "f1_rf = f1_score(y_test, y_pred)\n",
    "print('confusion matrix :\\n', confusion_rf)\n",
    "print('accuracy score : ' + str(accuracy_rf))\n",
    "print('F1 score : ' + str(f1_rf))"
   ]
  },
  {
   "cell_type": "markdown",
   "metadata": {
    "colab_type": "text",
    "id": "bYM9o5Yee-K6"
   },
   "source": [
    "## SVM"
   ]
  },
  {
   "cell_type": "code",
   "execution_count": 0,
   "metadata": {
    "colab": {},
    "colab_type": "code",
    "id": "JU76KV6UlFVn"
   },
   "outputs": [],
   "source": [
    "from sklearn.svm import SVC\n",
    "scaler = StandardScaler()                                                         #Scaling our data to train on SVM model\n",
    "X_new_train = scaler.fit_transform(X_new_train)\n",
    "X_new_test = scaler.transform(X_new_test)"
   ]
  },
  {
   "cell_type": "markdown",
   "metadata": {
    "colab_type": "text",
    "id": "ORp44jjwfJrp"
   },
   "source": [
    "### Hyperparameter tuning"
   ]
  },
  {
   "cell_type": "code",
   "execution_count": 48,
   "metadata": {
    "colab": {
     "base_uri": "https://localhost:8080/",
     "height": 118
    },
    "colab_type": "code",
    "executionInfo": {
     "elapsed": 1566299,
     "status": "ok",
     "timestamp": 1590227142847,
     "user": {
      "displayName": "adarsh joshy",
      "photoUrl": "",
      "userId": "12866353117515642396"
     },
     "user_tz": -330
    },
    "id": "OpEnw9HVk8fo",
    "outputId": "a9f80665-dc7a-4e13-dcd4-7251d93280d2"
   },
   "outputs": [
    {
     "name": "stdout",
     "output_type": "stream",
     "text": [
      "Fitting 5 folds for each of 16 candidates, totalling 80 fits\n"
     ]
    },
    {
     "name": "stderr",
     "output_type": "stream",
     "text": [
      "[Parallel(n_jobs=-1)]: Using backend LokyBackend with 2 concurrent workers.\n",
      "[Parallel(n_jobs=-1)]: Done  46 tasks      | elapsed:  8.3min\n",
      "[Parallel(n_jobs=-1)]: Done  80 out of  80 | elapsed: 19.5min finished\n"
     ]
    },
    {
     "name": "stdout",
     "output_type": "stream",
     "text": [
      "Best parameters : {'C': 1, 'gamma': 1}\n",
      "Best score : 0.9014874916103699\n"
     ]
    }
   ],
   "source": [
    "parameters = {'C' : [0.001, 0.01, 0.1, 1],                                        #finding correct 'C' and 'gamma' for our model\n",
    "              'gamma' : [0.001, 0.01, 0.1, 1]}\n",
    "classifier = SVC()\n",
    "classifier_ = GridSearchCV(classifier, parameters, cv=5, n_jobs=-1, verbose=1)\n",
    "classifier_.fit(X_new_train, y_train)\n",
    "print('Best parameters : ' + str(classifier_.best_params_))\n",
    "print('Best score : ' + str(classifier_.best_score_))"
   ]
  },
  {
   "cell_type": "code",
   "execution_count": 49,
   "metadata": {
    "colab": {
     "base_uri": "https://localhost:8080/",
     "height": 67
    },
    "colab_type": "code",
    "executionInfo": {
     "elapsed": 1647550,
     "status": "ok",
     "timestamp": 1590227224119,
     "user": {
      "displayName": "adarsh joshy",
      "photoUrl": "",
      "userId": "12866353117515642396"
     },
     "user_tz": -330
    },
    "id": "hFHpUT2ul7cj",
    "outputId": "08b1df75-e88b-4355-ea83-d01fb83f416b"
   },
   "outputs": [
    {
     "name": "stdout",
     "output_type": "stream",
     "text": [
      "[LibSVM]"
     ]
    },
    {
     "data": {
      "text/plain": [
       "SVC(C=1, break_ties=False, cache_size=200, class_weight=None, coef0=0.0,\n",
       "    decision_function_shape='ovr', degree=3, gamma=1, kernel='rbf', max_iter=-1,\n",
       "    probability=False, random_state=None, shrinking=True, tol=0.001, verbose=1)"
      ]
     },
     "execution_count": 49,
     "metadata": {
      "tags": []
     },
     "output_type": "execute_result"
    }
   ],
   "source": [
    "classifier = SVC(C=1 , gamma=1, verbose=1)\n",
    "classifier.fit(X_new_train, y_train)"
   ]
  },
  {
   "cell_type": "code",
   "execution_count": 50,
   "metadata": {
    "colab": {
     "base_uri": "https://localhost:8080/",
     "height": 101
    },
    "colab_type": "code",
    "executionInfo": {
     "elapsed": 1651063,
     "status": "ok",
     "timestamp": 1590227227651,
     "user": {
      "displayName": "adarsh joshy",
      "photoUrl": "",
      "userId": "12866353117515642396"
     },
     "user_tz": -330
    },
    "id": "shpPVxSTOruN",
    "outputId": "54cd7fd3-6685-4f0e-ca8a-7eefa7cdf08b"
   },
   "outputs": [
    {
     "name": "stdout",
     "output_type": "stream",
     "text": [
      "confusion matrix :\n",
      " [[ 297  737]\n",
      " [ 109 7900]]\n",
      "accuracy score : 0.9064469755612076\n",
      "F1 score : 0.9491769794545236\n"
     ]
    }
   ],
   "source": [
    "y_pred = classifier.predict(X_new_test)                                           #Evaluating the model\n",
    "confusion_svm = confusion_matrix(y_test, y_pred)\n",
    "accuracy_svm = accuracy_score(y_test, y_pred)\n",
    "f1_svm = f1_score(y_test, y_pred)\n",
    "print('confusion matrix :\\n', confusion_svm)\n",
    "print('accuracy score : ' + str(accuracy_svm))\n",
    "print('F1 score : ' + str(f1_svm))"
   ]
  },
  {
   "cell_type": "markdown",
   "metadata": {
    "colab_type": "text",
    "id": "017ye4Ru8XoQ"
   },
   "source": [
    "## Summary"
   ]
  },
  {
   "cell_type": "code",
   "execution_count": 51,
   "metadata": {
    "colab": {
     "base_uri": "https://localhost:8080/",
     "height": 136
    },
    "colab_type": "code",
    "executionInfo": {
     "elapsed": 1651047,
     "status": "ok",
     "timestamp": 1590227227653,
     "user": {
      "displayName": "adarsh joshy",
      "photoUrl": "",
      "userId": "12866353117515642396"
     },
     "user_tz": -330
    },
    "id": "mqVMblyN7xja",
    "outputId": "7946772a-a145-4502-834b-0cbcf1ba73c2"
   },
   "outputs": [
    {
     "data": {
      "text/html": [
       "<div>\n",
       "<style scoped>\n",
       "    .dataframe tbody tr th:only-of-type {\n",
       "        vertical-align: middle;\n",
       "    }\n",
       "\n",
       "    .dataframe tbody tr th {\n",
       "        vertical-align: top;\n",
       "    }\n",
       "\n",
       "    .dataframe thead th {\n",
       "        text-align: right;\n",
       "    }\n",
       "</style>\n",
       "<table border=\"1\" class=\"dataframe\">\n",
       "  <thead>\n",
       "    <tr style=\"text-align: right;\">\n",
       "      <th></th>\n",
       "      <th>Model</th>\n",
       "      <th>Accuracy Score</th>\n",
       "      <th>F1 Score</th>\n",
       "    </tr>\n",
       "  </thead>\n",
       "  <tbody>\n",
       "    <tr>\n",
       "      <th>0</th>\n",
       "      <td>Logistic Regression</td>\n",
       "      <td>0.751521</td>\n",
       "      <td>0.844702</td>\n",
       "    </tr>\n",
       "    <tr>\n",
       "      <th>1</th>\n",
       "      <td>Random Forest</td>\n",
       "      <td>0.920049</td>\n",
       "      <td>0.956009</td>\n",
       "    </tr>\n",
       "    <tr>\n",
       "      <th>2</th>\n",
       "      <td>SVM</td>\n",
       "      <td>0.906447</td>\n",
       "      <td>0.949177</td>\n",
       "    </tr>\n",
       "  </tbody>\n",
       "</table>\n",
       "</div>"
      ],
      "text/plain": [
       "                 Model  Accuracy Score  F1 Score\n",
       "0  Logistic Regression        0.751521  0.844702\n",
       "1        Random Forest        0.920049  0.956009\n",
       "2                  SVM        0.906447  0.949177"
      ]
     },
     "execution_count": 51,
     "metadata": {
      "tags": []
     },
     "output_type": "execute_result"
    }
   ],
   "source": [
    "models = [['Logistic Regression', accuracy_lr, f1_lr],\n",
    "          ['Random Forest', accuracy_rf, f1_rf],\n",
    "          ['SVM', accuracy_svm, f1_svm]]\n",
    "df = pd.DataFrame(models, columns=['Model', 'Accuracy Score', 'F1 Score'])\n",
    "df"
   ]
  },
  {
   "cell_type": "markdown",
   "metadata": {
    "colab_type": "text",
    "id": "h2vTR26N9-CG"
   },
   "source": [
    "> **Random Forest** is the best model.<br>\n",
    "\n"
   ]
  },
  {
   "cell_type": "code",
   "execution_count": 0,
   "metadata": {
    "colab": {},
    "colab_type": "code",
    "id": "Sa_HBD8Ow8OG"
   },
   "outputs": [],
   "source": []
  }
 ],
 "metadata": {
  "colab": {
   "authorship_tag": "ABX9TyNUyHaJ3geqe5DFQqs2SNWQ",
   "collapsed_sections": [],
   "mount_file_id": "1svIxlqLkoDW3IL8uYyhzQn0COCYZ-VKK",
   "name": "DSIG_Project.ipynb",
   "provenance": [],
   "toc_visible": true
  },
  "kernelspec": {
   "display_name": "Python 3",
   "language": "python",
   "name": "python3"
  },
  "language_info": {
   "codemirror_mode": {
    "name": "ipython",
    "version": 3
   },
   "file_extension": ".py",
   "mimetype": "text/x-python",
   "name": "python",
   "nbconvert_exporter": "python",
   "pygments_lexer": "ipython3",
   "version": "3.7.3"
  }
 },
 "nbformat": 4,
 "nbformat_minor": 1
}
